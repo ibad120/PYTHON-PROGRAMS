{
 "cells": [
  {
   "cell_type": "markdown",
   "metadata": {},
   "source": [
    "# **Problem 1:**\n",
    "* #### Write a program that takes two integer inputs from the user and prints their sum."
   ]
  },
  {
   "cell_type": "code",
   "execution_count": 2,
   "metadata": {},
   "outputs": [
    {
     "name": "stdout",
     "output_type": "stream",
     "text": [
      "The Sum of 2 and 2 is 4\n"
     ]
    }
   ],
   "source": [
    "a = int(input(\"Enter First Number: \"))\n",
    "b = int(input(\"Enter Seceond Number: \"))\n",
    "sum = a + b\n",
    "print(\"The Sum of\",a,\"and\",b,\"is\",sum)"
   ]
  },
  {
   "cell_type": "markdown",
   "metadata": {},
   "source": [
    "# **Problem 2:**\n",
    "* ### Write a python program to calculate the sqroot of number. take num as a input from the user."
   ]
  },
  {
   "cell_type": "code",
   "execution_count": 3,
   "metadata": {},
   "outputs": [
    {
     "name": "stdout",
     "output_type": "stream",
     "text": [
      "The sqroot of 3 is: 1.7320508075688772\n"
     ]
    }
   ],
   "source": [
    "import math\n",
    "a = int(input(\"Enter The Number: \"))\n",
    "sq_rt = math.sqrt(a)\n",
    "print(\"The sqroot of\",a,\"is:\",sq_rt)\n",
    "\n",
    "\n"
   ]
  },
  {
   "cell_type": "markdown",
   "metadata": {},
   "source": [
    "# **Problem 3:**\n",
    "* ### Write a program to calculate the area of a triangle."
   ]
  },
  {
   "cell_type": "code",
   "execution_count": 5,
   "metadata": {},
   "outputs": [
    {
     "name": "stdout",
     "output_type": "stream",
     "text": [
      "The Area O A Triangle With Base 9.1 And Height 10.0 is: 45.5\n"
     ]
    }
   ],
   "source": [
    "import math\n",
    "h = float(input(\"Enter The Number Height Of A Triangle\"))\n",
    "b = float(input(\"Enter The Number Base Of A Triangle\"))\n",
    "area_tr = 0.5*(b*h)\n",
    "print(\"The Area O A Triangle With Base\",b,\"And Height\",h,\"is:\",area_tr)\n"
   ]
  },
  {
   "cell_type": "markdown",
   "metadata": {},
   "source": [
    "# **Problem 4:**\n",
    "* ### Write a python program to swap two variables."
   ]
  },
  {
   "cell_type": "markdown",
   "metadata": {},
   "source": [
    "#### Solution 1: Using third problem\n"
   ]
  },
  {
   "cell_type": "code",
   "execution_count": 14,
   "metadata": {},
   "outputs": [
    {
     "name": "stdout",
     "output_type": "stream",
     "text": [
      "The value of temparary variable is: 5\n",
      "The value of x is: 4\n",
      "The value of y is: 5\n"
     ]
    }
   ],
   "source": [
    "x = 5\n",
    "y = 4\n",
    "temp = x\n",
    "print(\"The value of temparary variable is:\",temp)\n",
    "x=y\n",
    "print(\"The value of x is:\",x)\n",
    "y=temp\n",
    "print(\"The value of y is:\",y)\n"
   ]
  },
  {
   "cell_type": "markdown",
   "metadata": {},
   "source": [
    "#### Solution 2: without using third variable."
   ]
  },
  {
   "cell_type": "code",
   "execution_count": 19,
   "metadata": {},
   "outputs": [
    {
     "name": "stdout",
     "output_type": "stream",
     "text": [
      "The Swapped Values of x and y is: (8, 9)\n",
      "The value of x is: 8\n",
      "The value of y is: 9\n"
     ]
    }
   ],
   "source": [
    "x= 9\n",
    "y =8\n",
    "swap_var = x,y=y,x\n",
    "print(\"The Swapped Values of x and y is:\",swap_var)\n",
    "print(\"The value of x is:\",x)\n",
    "print(\"The value of y is:\",y)"
   ]
  },
  {
   "cell_type": "markdown",
   "metadata": {},
   "source": [
    "# **Problem 5:**\n",
    "* ### Write a python program to convert kilometers into miles."
   ]
  },
  {
   "cell_type": "code",
   "execution_count": 24,
   "metadata": {},
   "outputs": [
    {
     "name": "stdout",
     "output_type": "stream",
     "text": [
      "The Value of 100.0  Kilometer Distance in Miles:  62.13711922373339\n"
     ]
    }
   ],
   "source": [
    "km = float(input(\"Enter The Distance in Kilometers: \"))\n",
    "miles = km/1.609344\n",
    "print(\"The Value of\",km,\" Kilometer Distance in Miles: \",miles)\n"
   ]
  },
  {
   "cell_type": "markdown",
   "metadata": {},
   "source": [
    "# **Problem 6:**\n",
    "* ### Write a python program to check a number is positive or negative.\n",
    "  "
   ]
  },
  {
   "cell_type": "code",
   "execution_count": 27,
   "metadata": {},
   "outputs": [
    {
     "name": "stdout",
     "output_type": "stream",
     "text": [
      "The Number Is Zero\n"
     ]
    }
   ],
   "source": [
    "num = int(input(\"Enter The Number: \"))\n",
    "if num>0:\n",
    "    print(\"The Number Is Positive\")\n",
    "elif num<0:\n",
    "    print(\"The Number Is Negative\")\n",
    "else:\n",
    "    print(\"The Number Is Zero\")"
   ]
  },
  {
   "cell_type": "markdown",
   "metadata": {},
   "source": [
    "# **Problem 7:**\n",
    "* ### Write a python program to check the number is Even or Odd."
   ]
  },
  {
   "cell_type": "code",
   "execution_count": 35,
   "metadata": {},
   "outputs": [
    {
     "name": "stdout",
     "output_type": "stream",
     "text": [
      "The Number Is Odd.9\n"
     ]
    }
   ],
   "source": [
    "num = int(input(\"Enter The Number: \"))\n",
    "if num%2==0:\n",
    "    print(\"The Number Is Even.\")\n",
    "else:\n",
    "    print(\"The Number Is Odd.9\")"
   ]
  },
  {
   "cell_type": "markdown",
   "metadata": {},
   "source": [
    "# **Problem 8:**\n",
    "* ### Write a python program to check leap year."
   ]
  },
  {
   "cell_type": "code",
   "execution_count": 52,
   "metadata": {},
   "outputs": [
    {
     "name": "stdout",
     "output_type": "stream",
     "text": [
      "The Year 78 Is Not Leap Year.\n"
     ]
    }
   ],
   "source": [
    "year = int(input(\"Enter Year T Be Checked: \"))\n",
    "if year%100==0 and year%400==0:\n",
    "    print(f\"The Year {year}Is Leap Year.\")\n",
    "elif year%4==0 and year%100!=0:\n",
    "    print(f\"The Year {year}Is Leap Year.\")\n",
    "else:\n",
    "    print(f\"The Year {year} Is Not Leap Year.\")\n"
   ]
  },
  {
   "cell_type": "markdown",
   "metadata": {},
   "source": [
    "# **Problem 9:**\n",
    "* ### Write a python program to find the largest number amongst three numbers."
   ]
  },
  {
   "cell_type": "code",
   "execution_count": 53,
   "metadata": {},
   "outputs": [
    {
     "name": "stdout",
     "output_type": "stream",
     "text": [
      "The Number 90 Is Largest Amongst Three Numbers\n"
     ]
    }
   ],
   "source": [
    "num1 = int(input(\"Enter The First Number\"))\n",
    "num2 = int(input(\"Enter The Second Number\"))\n",
    "num3 = int(input(\"Enter The Third Number\"))\n",
    "if num1>num2 and num1>num3:\n",
    "    print(f\"The Number {num1} Is Largest Amongst Three Numbers.\")\n",
    "elif num2>num1 and num2>num3:\n",
    "    print(f\"The Number {num2} Is Largest Amongst Three Number.s\")\n",
    "else:\n",
    "    print(f\"The Number {num3} Is Largest Amongst Three Numbers.\")\n"
   ]
  },
  {
   "cell_type": "markdown",
   "metadata": {},
   "source": [
    "# **Problem 10:**\n",
    "* ### Write a python program to check the number is prime or not."
   ]
  },
  {
   "cell_type": "code",
   "execution_count": 60,
   "metadata": {},
   "outputs": [
    {
     "name": "stdout",
     "output_type": "stream",
     "text": [
      "11 is a prime number\n"
     ]
    }
   ],
   "source": [
    "num = int(input(\"Enter The Number: \"))\n",
    "\n",
    "# To take input from the user\n",
    "#num = int(input(\"Enter a number: \"))\n",
    "\n",
    "if num == 1:\n",
    "    print(num, \"is not a prime number\")\n",
    "elif num > 1:\n",
    "   # check for factors\n",
    "   for i in range(2,num):\n",
    "       if (num % i) == 0:\n",
    "           print(num,\"is not a prime number\")\n",
    "           break\n",
    "   else:\n",
    "       print(num,\"is a prime number\")\n",
    "       \n",
    "# if input number is less than\n",
    "# or equal to 1, it is not prime\n",
    "else:\n",
    "   print(num,\"is not a prime number\")"
   ]
  },
  {
   "cell_type": "markdown",
   "metadata": {},
   "source": [
    "# **Problem 11:**\n",
    "* ### Write a python program to find the factorial of a number."
   ]
  },
  {
   "cell_type": "markdown",
   "metadata": {},
   "source": [
    "#### Method 1: Using For Loop"
   ]
  },
  {
   "cell_type": "code",
   "execution_count": 90,
   "metadata": {},
   "outputs": [
    {
     "name": "stdout",
     "output_type": "stream",
     "text": [
      "The Factorial Of A 5 IS: 120\n"
     ]
    }
   ],
   "source": [
    "num = int(input(\"Enter The Number: \"))\n",
    "fact = 1\n",
    "if num<0:\n",
    "    print(f\"The Factorial Of {num} Does Not Exist\")\n",
    "if num==0:\n",
    "    print(f\"The Factorial Of {num} Is:\",1)\n",
    "if num>0:\n",
    "    for i in range(1,num+1):\n",
    "        fact = fact*i\n",
    "    print(f\"The Factorial Of A {num} IS:\",fact)\n"
   ]
  },
  {
   "cell_type": "markdown",
   "metadata": {},
   "source": [
    "#### Method 2: Using Reccursion (Function)"
   ]
  },
  {
   "cell_type": "code",
   "execution_count": 92,
   "metadata": {},
   "outputs": [
    {
     "name": "stdout",
     "output_type": "stream",
     "text": [
      "The factorial of 4 is 24\n"
     ]
    }
   ],
   "source": [
    "def factorial(n):\n",
    "    if n == 0 or n == 1:\n",
    "        return 1\n",
    "    else:\n",
    "        return n * factorial(n - 1)\n",
    "\n",
    "# Taking input from the user\n",
    "num = int(input(\"Enter a number: \"))\n",
    "\n",
    "# Checking if the number is negative\n",
    "if num < 0:\n",
    "    print(\"Factorial is not defined for negative numbers.\")\n",
    "else:\n",
    "    result = factorial(num)\n",
    "    print(\"The factorial of\", num, \"is\", result)"
   ]
  },
  {
   "cell_type": "markdown",
   "metadata": {},
   "source": [
    "# **Problem 12:**\n",
    "* ### Write a python program to generate the random number.\n",
    "* "
   ]
  },
  {
   "cell_type": "code",
   "execution_count": 73,
   "metadata": {},
   "outputs": [
    {
     "name": "stdout",
     "output_type": "stream",
     "text": [
      "The Random Number Is: 21\n"
     ]
    }
   ],
   "source": [
    "import random\n",
    "num = random.randint(1,100)\n",
    "print(\"The Random Number Is:\",num)"
   ]
  },
  {
   "cell_type": "markdown",
   "metadata": {},
   "source": [
    "# **Problem 13:**\n",
    "* ### Write a python program to print all prime numbers in an interval.\n"
   ]
  },
  {
   "cell_type": "code",
   "execution_count": 86,
   "metadata": {},
   "outputs": [
    {
     "name": "stdout",
     "output_type": "stream",
     "text": [
      "2\n",
      "3\n",
      "5\n",
      "7\n"
     ]
    }
   ],
   "source": [
    "lower = int(input(\"Enter The Lower Limit Here: \"))\n",
    "upper = int(input(\"Enter The Upper Limit Here: \"))\n",
    "for num in range(lower, upper + 1):\n",
    "    if num > 1:\n",
    "        for i in range(2, num):\n",
    "            if num%i==0:\n",
    "                break\n",
    "        else:        \n",
    "            print(num)"
   ]
  },
  {
   "cell_type": "markdown",
   "metadata": {},
   "source": [
    "# **Problem 14:**\n",
    "* ### Write a python program to convert the temperature from celsius to farenheit."
   ]
  },
  {
   "cell_type": "code",
   "execution_count": 85,
   "metadata": {},
   "outputs": [
    {
     "name": "stdout",
     "output_type": "stream",
     "text": [
      "The Temperture 0 degree celsius In Farenheit Is:  32.0\n"
     ]
    }
   ],
   "source": [
    "celsius = int(input(\"Enter The Temperture In Celsius: \"))\n",
    "farenheit = (celsius * 9/5) + 32\n",
    "print(f\"The Temperture {celsius} degree celsius In Farenheit Is: \",farenheit)"
   ]
  },
  {
   "cell_type": "markdown",
   "metadata": {},
   "source": [
    "# **Problem 15:**\n",
    "* ### Write a python program to calculate the table of number.\n",
    "  "
   ]
  },
  {
   "cell_type": "markdown",
   "metadata": {},
   "source": [
    "#### From For Loop:"
   ]
  },
  {
   "cell_type": "code",
   "execution_count": 97,
   "metadata": {},
   "outputs": [
    {
     "name": "stdout",
     "output_type": "stream",
     "text": [
      "2 X 1 = 2\n",
      "2 X 2 = 4\n",
      "2 X 3 = 6\n",
      "2 X 4 = 8\n",
      "2 X 5 = 10\n",
      "2 X 6 = 12\n",
      "2 X 7 = 14\n",
      "2 X 8 = 16\n",
      "2 X 9 = 18\n",
      "2 X 10 = 20\n"
     ]
    }
   ],
   "source": [
    "num = int(input(\"Enter the number: \"))\n",
    "for i in range(1, 10+1):\n",
    "    print(num,\"X\",i,\"=\",num*i)"
   ]
  },
  {
   "cell_type": "markdown",
   "metadata": {},
   "source": [
    "### From While Loop:\n"
   ]
  },
  {
   "cell_type": "code",
   "execution_count": 98,
   "metadata": {},
   "outputs": [
    {
     "name": "stdout",
     "output_type": "stream",
     "text": [
      "9 X 1 = 9\n",
      "9 X 2 = 18\n",
      "9 X 3 = 27\n",
      "9 X 4 = 36\n",
      "9 X 5 = 45\n",
      "9 X 6 = 54\n",
      "9 X 7 = 63\n",
      "9 X 8 = 72\n",
      "9 X 9 = 81\n",
      "9 X 10 = 90\n"
     ]
    }
   ],
   "source": [
    "num = int(input(\"Enter the number: \"))\n",
    "i = 1\n",
    "while i<= 10:\n",
    "    print(num,\"X\",i,\"=\",num*i)\n",
    "    i = i+1"
   ]
  },
  {
   "cell_type": "markdown",
   "metadata": {},
   "source": [
    "# **Problem 16:**\n",
    "* ### Write a python program to print Fibonacci Sequence."
   ]
  },
  {
   "cell_type": "code",
   "execution_count": 111,
   "metadata": {},
   "outputs": [
    {
     "name": "stdout",
     "output_type": "stream",
     "text": [
      "Fibonacci sequence:\n",
      "0\n",
      "1\n",
      "1\n",
      "2\n",
      "3\n"
     ]
    }
   ],
   "source": [
    "num_terms = int(input(\"Enter the number of terms: \"))\n",
    "\n",
    "# First two terms of the Fibonacci sequence\n",
    "first_term = 0\n",
    "second_term = 1\n",
    "\n",
    "# Print the first two terms\n",
    "print(\"Fibonacci sequence:\")\n",
    "print(first_term)\n",
    "print(second_term)\n",
    "\n",
    "# Generate and print the remaining terms using a for loop\n",
    "for _ in range(num_terms - 2):\n",
    "    next_term = first_term + second_term\n",
    "    print(next_term)\n",
    "    first_term, second_term = second_term, next_term"
   ]
  },
  {
   "cell_type": "markdown",
   "metadata": {},
   "source": [
    "# **Problem 17:**\n",
    "* ### Write a python program to check Armstrong Number.\n",
    "  "
   ]
  },
  {
   "cell_type": "code",
   "execution_count": 117,
   "metadata": {},
   "outputs": [
    {
     "name": "stdout",
     "output_type": "stream",
     "text": [
      "371 is an Armstrong number.\n"
     ]
    }
   ],
   "source": [
    "num = int(input(\"Enter a number: \"))\n",
    "\n",
    "# Calculate the number of digits in the input number\n",
    "num_digits = len(str(num))\n",
    "\n",
    "# Initialize the sum variable\n",
    "sum = 0\n",
    "\n",
    "# Calculate the sum of the cubes of each digit\n",
    "temp = num\n",
    "while temp > 0:\n",
    "    digit = temp % 10\n",
    "    sum += digit ** num_digits\n",
    "    temp //= 10\n",
    "\n",
    "# Check if the input number is an Armstrong number\n",
    "if num == sum:\n",
    "    print(f\"{num} is an Armstrong number.\")\n",
    "else:\n",
    "    print(f\"{num} is not an Armstrong number.\")"
   ]
  },
  {
   "cell_type": "markdown",
   "metadata": {},
   "source": [
    "# **Problem 18:**\n",
    "* ### Write a python program to find armstrong number in interval."
   ]
  },
  {
   "cell_type": "code",
   "execution_count": 122,
   "metadata": {},
   "outputs": [
    {
     "name": "stdout",
     "output_type": "stream",
     "text": [
      "Armstrong numbers in the given range:\n",
      "153\n",
      "370\n",
      "371\n",
      "407\n"
     ]
    }
   ],
   "source": [
    "lower_limit = int(input(\"Enter the lower limit: \"))\n",
    "upper_limit = int(input(\"Enter the upper limit: \"))\n",
    "\n",
    "armstrong_numbers = []\n",
    "\n",
    "for num in range(lower_limit, upper_limit + 1):\n",
    "    num_digits = len(str(num))\n",
    "    temp = num\n",
    "    sum = 0\n",
    "\n",
    "    while temp > 0:\n",
    "        digit = temp % 10\n",
    "        sum += digit ** num_digits\n",
    "        temp //= 10\n",
    "\n",
    "    if num == sum:\n",
    "        armstrong_numbers.append(num)\n",
    "\n",
    "print(\"Armstrong numbers in the given range:\")\n",
    "for armstrong_num in armstrong_numbers:\n",
    "    print(armstrong_num)"
   ]
  },
  {
   "cell_type": "markdown",
   "metadata": {},
   "source": [
    "# **Problem 19:**\n",
    "* ### Write a python program to sum of natural numbers."
   ]
  },
  {
   "cell_type": "code",
   "execution_count": 127,
   "metadata": {},
   "outputs": [
    {
     "name": "stdout",
     "output_type": "stream",
     "text": [
      "105\n"
     ]
    }
   ],
   "source": [
    "num = int(input(\"Enter the number: \"))\n",
    "if num<0:\n",
    "    print(\"Please enter positive number\")\n",
    "else:\n",
    "    sum = 0\n",
    "    while num > 0:\n",
    "        sum += num\n",
    "        num -= 1\n",
    "    print(sum) "
   ]
  },
  {
   "cell_type": "markdown",
   "metadata": {},
   "source": [
    "# **Problem 20:**\n",
    "* ### Write a python program to display the powers of 2 using anonymous function."
   ]
  },
  {
   "cell_type": "code",
   "execution_count": 136,
   "metadata": {},
   "outputs": [
    {
     "name": "stdout",
     "output_type": "stream",
     "text": [
      "The Value Of 2 Raised To The Power 0 Is:  1\n",
      "The Value Of 2 Raised To The Power 1 Is:  2\n",
      "The Value Of 2 Raised To The Power 2 Is:  4\n",
      "The Value Of 2 Raised To The Power 3 Is:  8\n",
      "The Value Of 2 Raised To The Power 4 Is:  16\n",
      "The Value Of 2 Raised To The Power 5 Is:  32\n",
      "The Value Of 2 Raised To The Power 6 Is:  64\n",
      "The Value Of 2 Raised To The Power 7 Is:  128\n",
      "The Value Of 2 Raised To The Power 8 Is:  256\n"
     ]
    }
   ],
   "source": [
    "nterms = int(input(\"Enter n terms here: \"))\n",
    "result = list(map(lambda x : 2**x, range(nterms + 1)))\n",
    "for i in range(nterms):\n",
    "    print(\"The Value Of 2 Raised To The Power\",i,\"Is: \",result[i])"
   ]
  },
  {
   "cell_type": "markdown",
   "metadata": {},
   "source": [
    "# **Problem 21:**\n",
    "* ### Write a python program to numbers divisible by another numbers."
   ]
  },
  {
   "cell_type": "markdown",
   "metadata": {},
   "source": [
    "#### Solution 1: Using For Loop"
   ]
  },
  {
   "cell_type": "code",
   "execution_count": 138,
   "metadata": {},
   "outputs": [
    {
     "name": "stdout",
     "output_type": "stream",
     "text": [
      "13\n",
      "26\n",
      "39\n",
      "52\n",
      "65\n",
      "78\n",
      "91\n"
     ]
    }
   ],
   "source": [
    "for i in range(1, 100):\n",
    "    if i%13 == 0:\n",
    "        print(i)"
   ]
  },
  {
   "cell_type": "markdown",
   "metadata": {},
   "source": [
    "#### Solution 2: Using Lambda Function"
   ]
  },
  {
   "cell_type": "code",
   "execution_count": 139,
   "metadata": {},
   "outputs": [
    {
     "name": "stdout",
     "output_type": "stream",
     "text": [
      "The Number Divisible By 13 Are:  [39, 26]\n"
     ]
    }
   ],
   "source": [
    "l = [39, 48, 26, 98, 33, 76, 93]\n",
    "\n",
    "result = list(filter(lambda x : x%13==0, l))\n",
    "print(\"The Number Divisible By 13 Are: \",result)\n"
   ]
  },
  {
   "cell_type": "markdown",
   "metadata": {},
   "source": [
    "# **Problem 22:**\n",
    "* ### Write a python program to convert decimal to binary, octal and hexadecimal."
   ]
  },
  {
   "cell_type": "code",
   "execution_count": 141,
   "metadata": {},
   "outputs": [
    {
     "name": "stdout",
     "output_type": "stream",
     "text": [
      "The Conversion of Decimal Number 12 Is: \n",
      "0b1100 In Binary\n",
      "0o14 In Octal\n",
      "0xc In Hexadecimal\n"
     ]
    }
   ],
   "source": [
    "decimal = int(input(\"Enter the number here: \"))\n",
    "print(\"The Conversion of Decimal Number\",decimal,\"Is: \")\n",
    "print(bin(decimal), \"In Binary\")\n",
    "print(oct(decimal), \"In Octal\")\n",
    "print(hex(decimal), \"In Hexadecimal\")"
   ]
  },
  {
   "cell_type": "markdown",
   "metadata": {},
   "source": [
    "# **Problem 23:**\n",
    "* ### Write a python program to find ASCII value of a character."
   ]
  },
  {
   "cell_type": "code",
   "execution_count": 146,
   "metadata": {},
   "outputs": [
    {
     "name": "stdout",
     "output_type": "stream",
     "text": [
      "The ASCII Value of [ Is:  91\n"
     ]
    }
   ],
   "source": [
    "char = input(\"Enter the character\")\n",
    "print(\"The ASCII Value of\",char,\"Is: \", ord(char))"
   ]
  },
  {
   "cell_type": "markdown",
   "metadata": {},
   "source": [
    "# **Problem 24:**\n",
    "* ### Write a python program to find HCF or GCD."
   ]
  },
  {
   "cell_type": "code",
   "execution_count": 156,
   "metadata": {},
   "outputs": [
    {
     "name": "stdout",
     "output_type": "stream",
     "text": [
      "The HCF Of The Numbers Is:  6\n"
     ]
    }
   ],
   "source": [
    "def find_hcf(x, y):\n",
    "    if x>y:\n",
    "        smaller = y\n",
    "    else:\n",
    "        smaller = x\n",
    "    for i in range(1, smaller+1):\n",
    "        if((x%i == 0) and (y%i == 0)):\n",
    "            hcf = i\n",
    "    return hcf\n",
    "print(\"The HCF Of The Numbers Is: \",find_hcf(12,30))"
   ]
  },
  {
   "cell_type": "markdown",
   "metadata": {},
   "source": [
    "# **Problem 25:**\n",
    "* ### Write a python program to find the factors of a number."
   ]
  },
  {
   "cell_type": "code",
   "execution_count": 159,
   "metadata": {},
   "outputs": [
    {
     "name": "stdout",
     "output_type": "stream",
     "text": [
      "The Factors of 12 Are 2\n",
      "The Factors of 12 Are 3\n",
      "The Factors of 12 Are 4\n",
      "The Factors of 12 Are 6\n",
      "The Factors of 12 Are 12\n"
     ]
    }
   ],
   "source": [
    "num = int(input(\"Enter The Number: \"))\n",
    "for i in range(2, num+1):\n",
    "    if num%i == 0:\n",
    "        print(\"The Factors of\", num,\"Are\",i)"
   ]
  },
  {
   "cell_type": "markdown",
   "metadata": {},
   "source": [
    "# **Problem 26:**\n",
    "* ### Write a python program to make a simple calculator."
   ]
  },
  {
   "cell_type": "code",
   "execution_count": 162,
   "metadata": {},
   "outputs": [
    {
     "name": "stdout",
     "output_type": "stream",
     "text": [
      "*********Mini Calculator*********\n"
     ]
    },
    {
     "name": "stdout",
     "output_type": "stream",
     "text": [
      "0.0\n"
     ]
    }
   ],
   "source": [
    "print(\"*********Mini Calculator*********\")\n",
    "num1 = float(input(\"Enter the first number: \"))\n",
    "num2 = float(input(\"Enter the second number: \"))\n",
    "operator = input(\"Enter operator: \")\n",
    "if operator == \"+\":\n",
    "    result = num1 + num2\n",
    "elif operator ==\"-\":\n",
    "    result = num1 - num2\n",
    "elif operator == \"*\":\n",
    "    result = num1 * num2\n",
    "elif operator == \"/\":\n",
    "    result = num1/num2\n",
    "else:\n",
    "    print(\"Invalid Operator\")\n",
    "print(result)\n"
   ]
  },
  {
   "cell_type": "markdown",
   "metadata": {},
   "source": [
    "# **Problem 27:**\n",
    "* ### Write a python program to shuffle deck of cards.\n",
    "  "
   ]
  },
  {
   "cell_type": "code",
   "execution_count": 166,
   "metadata": {},
   "outputs": [
    {
     "name": "stdout",
     "output_type": "stream",
     "text": [
      "[(8, 'Diamond'), (11, 'Club'), (12, 'Diamond'), (10, 'Club'), (13, 'Herts'), (5, 'Diamond'), (1, 'Club'), (6, 'Spade'), (5, 'Herts'), (7, 'Diamond'), (4, 'Herts'), (1, 'Spade'), (5, 'Spade'), (3, 'Herts'), (1, 'Herts'), (9, 'Diamond'), (8, 'Herts'), (6, 'Diamond'), (2, 'Spade'), (4, 'Diamond'), (8, 'Club'), (12, 'Club'), (3, 'Diamond'), (11, 'Spade'), (3, 'Club'), (7, 'Spade'), (6, 'Club'), (10, 'Herts'), (10, 'Diamond'), (5, 'Club'), (4, 'Club'), (4, 'Spade'), (1, 'Diamond'), (3, 'Spade'), (9, 'Club'), (11, 'Diamond'), (7, 'Club'), (10, 'Spade'), (9, 'Herts'), (9, 'Spade'), (2, 'Diamond'), (2, 'Herts'), (12, 'Herts'), (11, 'Herts'), (13, 'Diamond'), (2, 'Club'), (12, 'Spade'), (7, 'Herts'), (6, 'Herts'), (13, 'Spade'), (8, 'Spade'), (13, 'Club')]\n",
      "8 off Diamond\n",
      "11 off Club\n",
      "12 off Diamond\n",
      "10 off Club\n",
      "13 off Herts\n"
     ]
    }
   ],
   "source": [
    "import random, itertools\n",
    "deck = list(itertools.product(range(1, 14), [\"Spade\", \"Diamond\", \"Club\", \"Herts\"]))\n",
    "random.shuffle(deck)\n",
    "print(deck)\n",
    "for i in range(5):\n",
    "    print(deck[i][0], \"off\", deck[i][1])"
   ]
  },
  {
   "cell_type": "markdown",
   "metadata": {},
   "source": [
    "# **Problem 28:**\n",
    "* ### Write a python program to display calendar."
   ]
  },
  {
   "cell_type": "code",
   "execution_count": 1,
   "metadata": {},
   "outputs": [
    {
     "name": "stdout",
     "output_type": "stream",
     "text": [
      "    August 2000\n",
      "Mo Tu We Th Fr Sa Su\n",
      "    1  2  3  4  5  6\n",
      " 7  8  9 10 11 12 13\n",
      "14 15 16 17 18 19 20\n",
      "21 22 23 24 25 26 27\n",
      "28 29 30 31\n",
      "\n"
     ]
    }
   ],
   "source": [
    "import calendar\n",
    "year = int(input(\"Enter year: \"))\n",
    "month = int(input(\"Enter month: \"))\n",
    "calendar = calendar.month(year,month)\n",
    "print(calendar)"
   ]
  },
  {
   "cell_type": "markdown",
   "metadata": {},
   "source": [
    "# **Problem 29:**\n",
    "* ### Write a python program to display fibonacci sequence using reccursion."
   ]
  },
  {
   "cell_type": "code",
   "execution_count": 10,
   "metadata": {},
   "outputs": [
    {
     "name": "stdout",
     "output_type": "stream",
     "text": [
      "Fibonacci Sequence\n",
      "0\n",
      "1\n",
      "1\n",
      "2\n",
      "3\n",
      "5\n",
      "8\n",
      "13\n",
      "21\n"
     ]
    }
   ],
   "source": [
    "\n",
    "def fibo (n):\n",
    "    if n <= 1:\n",
    "        return n\n",
    "    else:\n",
    "        return fibo(n - 1) + fibo(n - 2)\n",
    "\n",
    "n = int(input(\"Enter the number\"))\n",
    "if n<=0:\n",
    "    print(\"Enter Positive Number\")\n",
    "else:\n",
    "    print(\"Fibonacci Sequence\")\n",
    "    for i in range(n):\n",
    "        print(fibo(i))\n",
    "        "
   ]
  },
  {
   "cell_type": "markdown",
   "metadata": {},
   "source": [
    "# **Problem 30:**\n",
    "* ### Write a python program to find sum of natural numbers using reccursion. "
   ]
  },
  {
   "cell_type": "code",
   "execution_count": 13,
   "metadata": {},
   "outputs": [
    {
     "name": "stdout",
     "output_type": "stream",
     "text": [
      "The sum of natural numbers using reccursion upto given range is : 15\n"
     ]
    }
   ],
   "source": [
    "def natural_num_sum (n):\n",
    "    if n <= 1:\n",
    "        return n\n",
    "    else:\n",
    "        return n + natural_num_sum(n-1)\n",
    "n = int(input(\"Enter Number:\"))    \n",
    "if n <=0:\n",
    "   print(\"Enter + Number: \")\n",
    "else:   \n",
    "   print(\"The sum of natural numbers using reccursion upto given range is :\", natural_num_sum(n)) "
   ]
  },
  {
   "cell_type": "markdown",
   "metadata": {},
   "source": [
    "# **Problem 31:**\n",
    "* ### Write a python program to factorial of a number using reccursion."
   ]
  },
  {
   "cell_type": "code",
   "execution_count": 3,
   "metadata": {},
   "outputs": [
    {
     "name": "stdout",
     "output_type": "stream",
     "text": [
      "arryhjz\n",
      "Q\n"
     ]
    }
   ],
   "source": []
  },
  {
   "cell_type": "markdown",
   "metadata": {},
   "source": [
    "# **Problem 32:**\n",
    "* ### Write a python program to converts decimal to binary using reccursion."
   ]
  },
  {
   "cell_type": "code",
   "execution_count": null,
   "metadata": {},
   "outputs": [],
   "source": []
  },
  {
   "cell_type": "markdown",
   "metadata": {},
   "source": [
    "# **Problem 33:**\n",
    "* ### Write a python program to Add two matrices."
   ]
  },
  {
   "cell_type": "code",
   "execution_count": null,
   "metadata": {},
   "outputs": [],
   "source": []
  },
  {
   "cell_type": "markdown",
   "metadata": {},
   "source": [
    "# **Problem 34:**\n",
    "* ### Write a python program to transpose  a matrix."
   ]
  },
  {
   "cell_type": "code",
   "execution_count": null,
   "metadata": {},
   "outputs": [],
   "source": []
  },
  {
   "cell_type": "markdown",
   "metadata": {},
   "source": [
    "# **Problem 35:**\n",
    "* ### Write a python program to check whether  astring is palindrome or not."
   ]
  },
  {
   "cell_type": "code",
   "execution_count": null,
   "metadata": {},
   "outputs": [],
   "source": []
  },
  {
   "cell_type": "markdown",
   "metadata": {},
   "source": [
    "# **Problem 36:**\n",
    "* ### Write a python program to"
   ]
  },
  {
   "cell_type": "code",
   "execution_count": null,
   "metadata": {},
   "outputs": [],
   "source": []
  },
  {
   "cell_type": "markdown",
   "metadata": {},
   "source": [
    "# **Problem 37:**\n",
    "* ### Write a python program to"
   ]
  },
  {
   "cell_type": "code",
   "execution_count": null,
   "metadata": {},
   "outputs": [],
   "source": []
  },
  {
   "cell_type": "markdown",
   "metadata": {},
   "source": [
    "# **Problem 38:**\n",
    "* ### Write a python program to"
   ]
  },
  {
   "cell_type": "code",
   "execution_count": null,
   "metadata": {},
   "outputs": [],
   "source": []
  },
  {
   "cell_type": "markdown",
   "metadata": {},
   "source": [
    "# **Problem 39:**\n",
    "* ### Write a python program to"
   ]
  },
  {
   "cell_type": "code",
   "execution_count": null,
   "metadata": {},
   "outputs": [],
   "source": []
  },
  {
   "cell_type": "markdown",
   "metadata": {},
   "source": [
    "# **Problem 40:**\n",
    "* ### Write a python program to"
   ]
  },
  {
   "cell_type": "markdown",
   "metadata": {},
   "source": [
    "# **Problem 41:**\n",
    "* ### Write a python program to"
   ]
  },
  {
   "cell_type": "markdown",
   "metadata": {},
   "source": [
    "# **Problem 42:**\n",
    "* ### Write a python program to"
   ]
  },
  {
   "cell_type": "markdown",
   "metadata": {},
   "source": [
    "# **Problem 43:**\n",
    "* ### Write a python program to"
   ]
  },
  {
   "cell_type": "markdown",
   "metadata": {},
   "source": [
    "# **Problem 44:**\n",
    "* ### Write a python program to"
   ]
  },
  {
   "cell_type": "markdown",
   "metadata": {},
   "source": [
    "# **Problem 45:**\n",
    "* ### Write a python program to\n"
   ]
  },
  {
   "cell_type": "markdown",
   "metadata": {},
   "source": [
    "# **Problem 46:**\n",
    "* ### Write a python program to"
   ]
  },
  {
   "cell_type": "markdown",
   "metadata": {},
   "source": [
    "# **Problem 47:**\n",
    "* ### Write a python program to"
   ]
  },
  {
   "cell_type": "markdown",
   "metadata": {},
   "source": [
    "# **Problem 48:**\n",
    "* ### Write a python program to"
   ]
  },
  {
   "cell_type": "markdown",
   "metadata": {},
   "source": [
    "# **Problem 49:**\n",
    "* ### Write a python program to"
   ]
  },
  {
   "cell_type": "markdown",
   "metadata": {},
   "source": [
    "# **Problem 50:**\n",
    "* ### Write a python program to"
   ]
  }
 ],
 "metadata": {
  "kernelspec": {
   "display_name": "Python 3",
   "language": "python",
   "name": "python3"
  },
  "language_info": {
   "codemirror_mode": {
    "name": "ipython",
    "version": 3
   },
   "file_extension": ".py",
   "mimetype": "text/x-python",
   "name": "python",
   "nbconvert_exporter": "python",
   "pygments_lexer": "ipython3",
   "version": "3.11.5"
  }
 },
 "nbformat": 4,
 "nbformat_minor": 2
}
